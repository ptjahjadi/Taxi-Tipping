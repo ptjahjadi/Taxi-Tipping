{
 "cells": [
  {
   "cell_type": "code",
   "execution_count": 25,
   "metadata": {},
   "outputs": [
    {
     "name": "stderr",
     "output_type": "stream",
     "text": [
      "IOPub data rate exceeded.\n",
      "The notebook server will temporarily stop sending output\n",
      "to the client in order to avoid crashing it.\n",
      "To change this limit, set the config variable\n",
      "`--NotebookApp.iopub_data_rate_limit`.\n",
      "\n",
      "Current values:\n",
      "NotebookApp.iopub_data_rate_limit=1000000.0 (bytes/sec)\n",
      "NotebookApp.rate_limit_window=3.0 (secs)\n",
      "\n"
     ]
    }
   ],
   "source": [
    "import csv\n",
    "import matplotlib.pyplot as plt\n",
    "import pandas as pd\n",
    "\n",
    "def readcsv():\n",
    "    file_list = []\n",
    "    f = open(\"pre_processed_vivaldi6.csv\")\n",
    "    my_csv = csv.reader(f)\n",
    "    for row in my_csv:\n",
    "        file_list.append(row)\n",
    "    return file_list\n",
    "\n",
    "file_list = readcsv()\n",
    "print(file_list)"
   ]
  },
  {
   "cell_type": "code",
   "execution_count": 15,
   "metadata": {},
   "outputs": [
    {
     "name": "stderr",
     "output_type": "stream",
     "text": [
      "IOPub data rate exceeded.\n",
      "The notebook server will temporarily stop sending output\n",
      "to the client in order to avoid crashing it.\n",
      "To change this limit, set the config variable\n",
      "`--NotebookApp.iopub_data_rate_limit`.\n",
      "\n",
      "Current values:\n",
      "NotebookApp.iopub_data_rate_limit=1000000.0 (bytes/sec)\n",
      "NotebookApp.rate_limit_window=3.0 (secs)\n",
      "\n"
     ]
    }
   ],
   "source": [
    "def readcsv2():\n",
    "    file_list2 = []\n",
    "    f2 = open(\"yellow_tripdata_2015-12.csv\")\n",
    "    my_csv2 = csv.reader(f2)\n",
    "    for row in my_csv2:\n",
    "        file_list2.append(row)\n",
    "    return file_list2\n",
    "\n",
    "file_list2 = readcsv2()\n",
    "print(file_list2)"
   ]
  },
  {
   "cell_type": "code",
   "execution_count": 16,
   "metadata": {},
   "outputs": [
    {
     "name": "stdout",
     "output_type": "stream",
     "text": [
      "612401\n"
     ]
    }
   ],
   "source": [
    "count1 = 0\n",
    "count2 = 0\n",
    "count3 = 0\n",
    "count4 = 0\n",
    "count5 = 0\n",
    "count6 = 0\n",
    "\n",
    "dummy = 0\n",
    "for i in file_list2:\n",
    "    if (dummy == 0):\n",
    "        dummy += 1\n",
    "        pass\n",
    "    else:\n",
    "        if (0 < float(i[4]) <= 2):\n",
    "            count1 += 1\n",
    "        elif (2 < float(i[4]) <= 4):\n",
    "            count2 += 1\n",
    "        elif (4 < float(i[4]) <= 6):\n",
    "            count3 += 1\n",
    "        elif (6 < float(i[4]) <= 8):\n",
    "            count4 += 1\n",
    "        elif (8 < float(i[4]) <= 10):\n",
    "            count5 += 1\n",
    "        else:\n",
    "            count6 += 1\n",
    "            \n",
    "print(count1)"
   ]
  },
  {
   "cell_type": "code",
   "execution_count": 26,
   "metadata": {},
   "outputs": [
    {
     "name": "stdout",
     "output_type": "stream",
     "text": [
      "{'Reasonable': 38664}\n"
     ]
    }
   ],
   "source": [
    "my_dict = {}\n",
    "count = 0\n",
    "for i in file_list:\n",
    "    if (count == 0):\n",
    "        pass\n",
    "    else:\n",
    "        if i[19] in my_dict:\n",
    "            my_dict[i[19]] += 1\n",
    "        else:\n",
    "            my_dict[i[19]] = 1\n",
    "    count += 1\n",
    "\n",
    "print(my_dict)"
   ]
  },
  {
   "cell_type": "code",
   "execution_count": 18,
   "metadata": {},
   "outputs": [
    {
     "name": "stderr",
     "output_type": "stream",
     "text": [
      "C:\\Users\\patpa\\Anaconda3\\lib\\site-packages\\ipykernel_launcher.py:6: FutureWarning: 'from_array' is deprecated and will be removed in a future version. Please use the pd.Series(..) constructor instead.\n",
      "  \n"
     ]
    },
    {
     "data": {
      "image/png": "[encoded data removed]",
      "text/plain": [
       "<Figure size 432x288 with 1 Axes>"
      ]
     },
     "metadata": {
      "needs_background": "light"
     },
     "output_type": "display_data"
    }
   ],
   "source": [
    "plt.xlabel('Taxi Fare Reasonability')\n",
    "plt.ylabel('Number of Taxi Trips Recorded')\n",
    "\n",
    "\n",
    "frequencies = [38666, 22075]\n",
    "freq_series = pd.Series.from_array(frequencies)\n",
    "ax = freq_series.plot(kind='bar')\n",
    "x_labels = [\"Reasonable\", \"Unreasonable\"]\n",
    "ax.set_xticklabels(x_labels)\n",
    "\n",
    "rects = ax.patches\n",
    "labels = [38666, 22075]\n",
    "\n",
    "for rect, label in zip(rects, labels):\n",
    "    height = rect.get_height()\n",
    "    ax.text(rect.get_x() + rect.get_width() / 2, height + 5, label,\n",
    "            ha='center', va='bottom')\n",
    "plt.xticks(rotation='horizontal')  \n",
    "plt.show()"
   ]
  },
  {
   "cell_type": "code",
   "execution_count": 27,
   "metadata": {},
   "outputs": [
    {
     "name": "stdout",
     "output_type": "stream",
     "text": [
      "38664\n",
      "[0.0408931402790002, 0.02286052987305391, 0.029509301698571043, 0.03837072018890201, 0.08338362145468745, 0.037014396185469325]\n"
     ]
    }
   ],
   "source": [
    "list02 = []\n",
    "list24 = []\n",
    "list46 = []\n",
    "list68 = []\n",
    "list810 = []\n",
    "list10plus = []\n",
    "dummy = 0\n",
    "for i in file_list:\n",
    "    if (dummy == 0):\n",
    "        dummy += 1\n",
    "        pass\n",
    "    else:\n",
    "        if (0 < float(i[4]) <= 2):\n",
    "            list02.append(i[4])\n",
    "        elif (2 < float(i[4]) <= 4):\n",
    "            list24.append(i[4])\n",
    "        elif (4 < float(i[4]) <= 6):\n",
    "            list46.append(i[4])\n",
    "        elif (6 < float(i[4]) <= 8):\n",
    "            list68.append(i[4])\n",
    "        elif (8 < float(i[4]) <= 10):\n",
    "            list810.append(i[4])\n",
    "        else:\n",
    "            list10plus.append(i[4])\n",
    "        \n",
    "total = len(list02)+len(list24)+len(list46)+len(list68)+len(list810)+len(list10plus)\n",
    "num_list = [len(list02)/count1, len(list24)/count2, len(list46)/count3, len(list68)/count4, len(list810)/count5, len(list10plus)/count6]\n",
    "\n",
    "print(total)\n",
    "print(num_list)\n"
   ]
  },
  {
   "cell_type": "code",
   "execution_count": 28,
   "metadata": {},
   "outputs": [
    {
     "data": {
      "image/png": "[encoded data removed]",
      "text/plain": [
       "<Figure size 432x288 with 1 Axes>"
      ]
     },
     "metadata": {},
     "output_type": "display_data"
    }
   ],
   "source": [
    "pie_names = [\"0 - 2\", \"2 - 4\", \"4 - 6\", \"6 - 8\", \"8 - 10\", \"10+\"]\n",
    "plt.pie(num_list, explode=None, labels=pie_names, autopct='%.2f')\n",
    "plt.axis('equal')\n",
    "plt.show()"
   ]
  },
  {
   "cell_type": "code",
   "execution_count": 29,
   "metadata": {},
   "outputs": [
    {
     "name": "stderr",
     "output_type": "stream",
     "text": [
      "C:\\Users\\patpa\\Anaconda3\\lib\\site-packages\\ipykernel_launcher.py:5: FutureWarning: 'from_array' is deprecated and will be removed in a future version. Please use the pd.Series(..) constructor instead.\n",
      "  \"\"\"\n"
     ]
    },
    {
     "data": {
      "image/png": "[encoded data removed]",
      "text/plain": [
       "<Figure size 432x288 with 1 Axes>"
      ]
     },
     "metadata": {
      "needs_background": "light"
     },
     "output_type": "display_data"
    }
   ],
   "source": [
    "plt.xlabel('Distance in Miles')\n",
    "plt.ylabel('Proportion of Trips')\n",
    "\n",
    "\n",
    "freq_series = pd.Series.from_array(num_list)\n",
    "ax = freq_series.plot(kind='bar')\n",
    "x_labels = [\"0 - 2\", \"2 - 4\", \"4 - 6\", \"6 - 8\", \"8 - 10\", \"10+\"]\n",
    "ax.set_xticklabels(x_labels)\n",
    "\n",
    "rects = ax.patches\n",
    "plt.xticks(rotation='horizontal')  \n",
    "plt.show()"
   ]
  },
  {
   "cell_type": "code",
   "execution_count": 30,
   "metadata": {},
   "outputs": [],
   "source": [
    "count7 = 0\n",
    "count8 = 0\n",
    "count9 = 0\n",
    "count10 = 0\n",
    "\n",
    "dummy = 0\n",
    "for i in file_list2:\n",
    "    if (dummy == 0):\n",
    "        dummy += 1\n",
    "        pass\n",
    "    else:\n",
    "        if (0 < float(i[4]) <= 4):\n",
    "            count7 += 1\n",
    "        elif (4 < float(i[4]) <= 8):\n",
    "            count8 += 1\n",
    "        elif (8 < float(i[4]) <= 12):\n",
    "            count9 += 1\n",
    "        else:\n",
    "            count10 += 1"
   ]
  },
  {
   "cell_type": "code",
   "execution_count": 31,
   "metadata": {},
   "outputs": [],
   "source": [
    "list04 = []\n",
    "list48 = []\n",
    "list812 = []\n",
    "list12plus = []\n",
    "dummy = 0\n",
    "for i in file_list:\n",
    "    if (dummy == 0):\n",
    "        dummy += 1\n",
    "        pass\n",
    "    else:\n",
    "        if (0 < float(i[12]) <= 4):\n",
    "            list04.append(i[12])\n",
    "        elif (4 < float(i[12]) <= 8):\n",
    "            list48.append(i[12])\n",
    "        elif (8 < float(i[12]) <= 12):\n",
    "            list812.append(i[12])\n",
    "        else:\n",
    "            list12plus.append(i[12])\n",
    "\n",
    "num_list2 = [len(list04)/count7, len(list48)/count8, len(list812)/count9, len(list12plus)/count10]\n"
   ]
  },
  {
   "cell_type": "code",
   "execution_count": 32,
   "metadata": {},
   "outputs": [
    {
     "name": "stderr",
     "output_type": "stream",
     "text": [
      "C:\\Users\\patpa\\Anaconda3\\lib\\site-packages\\ipykernel_launcher.py:5: FutureWarning: 'from_array' is deprecated and will be removed in a future version. Please use the pd.Series(..) constructor instead.\n",
      "  \"\"\"\n"
     ]
    },
    {
     "data": {
      "image/png": "[encoded data removed]",
      "text/plain": [
       "<Figure size 432x288 with 1 Axes>"
      ]
     },
     "metadata": {
      "needs_background": "light"
     },
     "output_type": "display_data"
    }
   ],
   "source": [
    "plt.xlabel('Base Fare Amount in Dollars')\n",
    "plt.ylabel('Proportion of Trips')\n",
    "\n",
    "\n",
    "freq_series = pd.Series.from_array(num_list2)\n",
    "ax = freq_series.plot(kind='bar')\n",
    "x_labels = [\"0 - 4\", \"4 - 8\", \"8 - 12\", \"12+\"]\n",
    "ax.set_xticklabels(x_labels)\n",
    "\n",
    "rects = ax.patches\n",
    "plt.xticks(rotation='horizontal')  \n",
    "plt.show()"
   ]
  },
  {
   "cell_type": "code",
   "execution_count": null,
   "metadata": {},
   "outputs": [],
   "source": []
  },
  {
   "cell_type": "code",
   "execution_count": null,
   "metadata": {},
   "outputs": [],
   "source": []
  }
 ],
 "metadata": {
  "kernelspec": {
   "display_name": "Python 3",
   "language": "python",
   "name": "python3"
  },
  "language_info": {
   "codemirror_mode": {
    "name": "ipython",
    "version": 3
   },
   "file_extension": ".py",
   "mimetype": "text/x-python",
   "name": "python",
   "nbconvert_exporter": "python",
   "pygments_lexer": "ipython3",
   "version": "3.7.1"
  }
 },
 "nbformat": 4,
 "nbformat_minor": 2
}
